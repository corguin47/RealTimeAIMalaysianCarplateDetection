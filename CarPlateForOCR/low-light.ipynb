{
 "cells": [
  {
   "cell_type": "code",
   "execution_count": 13,
   "id": "9c2908fa",
   "metadata": {},
   "outputs": [
    {
     "ename": "TypeError",
     "evalue": "DecomNet() missing 2 required positional arguments: 'input_im' and 'layer_num'",
     "output_type": "error",
     "traceback": [
      "\u001b[1;31m---------------------------------------------------------------------------\u001b[0m",
      "\u001b[1;31mTypeError\u001b[0m                                 Traceback (most recent call last)",
      "Cell \u001b[1;32mIn[13], line 61\u001b[0m\n\u001b[0;32m     59\u001b[0m input_image_path \u001b[38;5;241m=\u001b[39m \u001b[38;5;124m'\u001b[39m\u001b[38;5;124mADD6379.jpg\u001b[39m\u001b[38;5;124m'\u001b[39m\n\u001b[0;32m     60\u001b[0m output_image_path \u001b[38;5;241m=\u001b[39m \u001b[38;5;124m'\u001b[39m\u001b[38;5;124mADD6379_enhanced.jpg\u001b[39m\u001b[38;5;124m'\u001b[39m\n\u001b[1;32m---> 61\u001b[0m \u001b[43menhance_image_retinexnet\u001b[49m\u001b[43m(\u001b[49m\u001b[43minput_image_path\u001b[49m\u001b[43m,\u001b[49m\u001b[43m \u001b[49m\u001b[43moutput_image_path\u001b[49m\u001b[43m)\u001b[49m\n",
      "Cell \u001b[1;32mIn[13], line 23\u001b[0m, in \u001b[0;36menhance_image_retinexnet\u001b[1;34m(input_path, output_path, checkpoint_dir)\u001b[0m\n\u001b[0;32m     20\u001b[0m input_tensor \u001b[38;5;241m=\u001b[39m tf\u001b[38;5;241m.\u001b[39mplaceholder(tf\u001b[38;5;241m.\u001b[39mfloat32, [\u001b[38;5;28;01mNone\u001b[39;00m, \u001b[38;5;28;01mNone\u001b[39;00m, \u001b[38;5;28;01mNone\u001b[39;00m, \u001b[38;5;241m3\u001b[39m], name\u001b[38;5;241m=\u001b[39m\u001b[38;5;124m'\u001b[39m\u001b[38;5;124minput_low\u001b[39m\u001b[38;5;124m'\u001b[39m)\n\u001b[0;32m     22\u001b[0m \u001b[38;5;66;03m# === Build network\u001b[39;00m\n\u001b[1;32m---> 23\u001b[0m decom_net \u001b[38;5;241m=\u001b[39m \u001b[43mDecomNet\u001b[49m\u001b[43m(\u001b[49m\u001b[43m)\u001b[49m\n\u001b[0;32m     24\u001b[0m relight_net \u001b[38;5;241m=\u001b[39m RelightNet()\n\u001b[0;32m     26\u001b[0m R_low, I_low \u001b[38;5;241m=\u001b[39m decom_net\u001b[38;5;241m.\u001b[39mbuild(input_tensor)\n",
      "\u001b[1;31mTypeError\u001b[0m: DecomNet() missing 2 required positional arguments: 'input_im' and 'layer_num'"
     ]
    }
   ],
   "source": [
    "import tensorflow.compat.v1 as tf\n",
    "tf.disable_v2_behavior()\n",
    "\n",
    "import os\n",
    "import cv2\n",
    "import numpy as np\n",
    "\n",
    "# === Correct import from model.py ===\n",
    "from model.model import DecomNet, RelightNet\n",
    "\n",
    "def enhance_image_retinexnet(input_path, output_path, checkpoint_dir='checkpoint/'):\n",
    "    # Load input image\n",
    "    input_img = cv2.imread(input_path)\n",
    "    input_img = cv2.cvtColor(input_img, cv2.COLOR_BGR2RGB)\n",
    "    input_img = input_img.astype(np.float32) / 255.0\n",
    "    input_img = np.expand_dims(input_img, axis=0)\n",
    "\n",
    "    sess = tf.Session()\n",
    "\n",
    "    input_tensor = tf.placeholder(tf.float32, [None, None, None, 3], name='input_low')\n",
    "\n",
    "    # === Build network\n",
    "    decom_net = DecomNet()\n",
    "    relight_net = RelightNet()\n",
    "\n",
    "    R_low, I_low = decom_net.build(input_tensor)\n",
    "    I_enhanced = relight_net.build(I_low)\n",
    "\n",
    "    var_Decom = [var for var in tf.global_variables() if 'DecomNet' in var.name]\n",
    "    var_Relight = [var for var in tf.global_variables() if 'RelightNet' in var.name]\n",
    "\n",
    "    saver_Decom = tf.train.Saver(var_list=var_Decom)\n",
    "    saver_Relight = tf.train.Saver(var_list=var_Relight)\n",
    "\n",
    "    sess.run(tf.global_variables_initializer())\n",
    "\n",
    "    print('Restoring DecomNet...')\n",
    "    saver_Decom.restore(sess, os.path.join(checkpoint_dir, 'RetinexNet-tensorflow'))\n",
    "    print('Restoring RelightNet...')\n",
    "    saver_Relight.restore(sess, os.path.join(checkpoint_dir, 'RetinexNet-tensorflow'))\n",
    "\n",
    "    feed_dict = {input_tensor: input_img}\n",
    "    output_R_low, output_I_low, output_I_enhanced = sess.run([R_low, I_low, I_enhanced], feed_dict=feed_dict)\n",
    "\n",
    "    output_S = output_R_low * output_I_enhanced\n",
    "    output_S = np.squeeze(output_S)\n",
    "    output_S = np.clip(output_S * 255.0, 0, 255).astype(np.uint8)\n",
    "    output_S = cv2.cvtColor(output_S, cv2.COLOR_RGB2BGR)\n",
    "\n",
    "    if not os.path.exists(os.path.dirname(output_path)):\n",
    "        os.makedirs(os.path.dirname(output_path))\n",
    "    cv2.imwrite(output_path, output_S)\n",
    "\n",
    "    print(f'✅ Enhanced image saved at: {output_path}')\n",
    "    sess.close()\n",
    "\n",
    "# Example\n",
    "if __name__ == \"__main__\":\n",
    "    input_image_path = 'ADD6379.jpg'\n",
    "    output_image_path = 'ADD6379_enhanced.jpg'\n",
    "    enhance_image_retinexnet(input_image_path, output_image_path)\n"
   ]
  }
 ],
 "metadata": {
  "kernelspec": {
   "display_name": "Python 3",
   "language": "python",
   "name": "python3"
  },
  "language_info": {
   "codemirror_mode": {
    "name": "ipython",
    "version": 3
   },
   "file_extension": ".py",
   "mimetype": "text/x-python",
   "name": "python",
   "nbconvert_exporter": "python",
   "pygments_lexer": "ipython3",
   "version": "3.11.5"
  }
 },
 "nbformat": 4,
 "nbformat_minor": 5
}
